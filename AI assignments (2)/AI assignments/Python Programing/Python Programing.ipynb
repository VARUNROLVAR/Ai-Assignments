{
 "cells": [
  {
   "cell_type": "code",
   "execution_count": 7,
   "id": "1330ffa8",
   "metadata": {},
   "outputs": [],
   "source": [
    "import pandas as pd\n",
    "\n",
    "# Load the employee data\n",
    "def load_data(file_path):\n",
    "    try:\n",
    "        return pd.read_csv(file_path)\n",
    "    except Exception as e:\n",
    "        print(f\"Error: {e}\")\n",
    "        return None"
   ]
  },
  {
   "cell_type": "code",
   "execution_count": 8,
   "id": "bdd90971",
   "metadata": {},
   "outputs": [],
   "source": [
    "# Greet an employee by their first name\n",
    "def greet_employee(employee_id, df):\n",
    "    employee = df[df['EID'] == employee_id]\n",
    "    if not employee.empty:\n",
    "        name = employee['Employee Name'].values[0]\n",
    "        first_name = name.split()[0]\n",
    "        gender = employee['Gender'].values[0]\n",
    "        title = \"Mr\" if gender == \"Male\" else \"Ms\"\n",
    "        return f\"Hello, {title} {first_name}\"\n",
    "    return \"Employee not found.\""
   ]
  },
  {
   "cell_type": "code",
   "execution_count": 9,
   "id": "7095f00e",
   "metadata": {},
   "outputs": [],
   "source": [
    "# Calculate average salary by department\n",
    "def average_salary_by_department(df):\n",
    "    return df.groupby('Department')['Salary'].mean()\n"
   ]
  },
  {
   "cell_type": "code",
   "execution_count": 10,
   "id": "2409ee92",
   "metadata": {},
   "outputs": [],
   "source": [
    "# Display employee details\n",
    "def display_employee_details(employee_id, df):\n",
    "    employee = df[df['EID'] == employee_id]\n",
    "    if not employee.empty:\n",
    "        name = employee['Employee Name'].values[0]\n",
    "        doj = employee['Date of Joining'].values[0]\n",
    "        department = employee['Department'].values[0]\n",
    "        return f\"{name} | {doj} | {department}\"\n",
    "    return \"Employee not found.\""
   ]
  },
  {
   "cell_type": "code",
   "execution_count": 11,
   "id": "e4c30b38",
   "metadata": {},
   "outputs": [],
   "source": [
    "# Sort employees by date of joining\n",
    "def sort_employees_by_doj(df):\n",
    "    df['Date of Joining'] = pd.to_datetime(df['Date of Joining'], format='%d-%m-%Y')\n",
    "    return df.sort_values(by='Date of Joining')\n"
   ]
  },
  {
   "cell_type": "code",
   "execution_count": 12,
   "id": "08a2ce7b",
   "metadata": {},
   "outputs": [],
   "source": [
    "# Example usage\n",
    "file_path = r\"C:\\\\Users\\\\varun\\\\Downloads\\\\employee (1).csv\"  # Use raw string for Windows file paths\n",
    "employee_df = load_data(file_path)"
   ]
  },
  {
   "cell_type": "code",
   "execution_count": 13,
   "id": "8f5aac6e",
   "metadata": {},
   "outputs": [
    {
     "name": "stdout",
     "output_type": "stream",
     "text": [
      "Hello, Ms Nitin\n",
      "Department\n",
      "Engineering     650000.0\n",
      "IT             1200000.0\n",
      "Products       2075000.0\n",
      "Research       1350000.0\n",
      "Semantics      1200000.0\n",
      "Name: Salary, dtype: float64\n",
      "Nitin Bhole | 01-11-2016 | Products\n",
      "      EID      Employee Name Gender   Salary Date of Joining   Department\n",
      "12  E620Y     Kumar Abhishek      M  1100000      2014-12-01    Semantics\n",
      "7   E184A  Kushmakar Krishna      M  1100000      2015-01-01     Products\n",
      "4   E098Z    Rajendra Prabhu      M  1000000      2015-11-11    Semantics\n",
      "8   E104S     Amarnath Patil      M   600000      2015-11-29  Engineering\n",
      "3   E123B      Pankaj Bansal      M   900000      2015-12-01     Research\n",
      "1   E876G     Mayur Kulkarni      M  1200000      2016-06-03    Semantics\n",
      "2   E798G      Anurag Pandey      M  1200000      2016-07-04           IT\n",
      "0   E123D        Nitin Bhole      M  1900000      2016-11-01     Products\n",
      "5   E294M     Sumanth Mishra      M  1800000      2017-09-04     Research\n",
      "6   E972L          Sai Bodha      M  1100000      2017-11-11    Semantics\n",
      "10  E983Q     Chakshu Bansal      F   300000      2017-12-04     Products\n",
      "9   E093V   Shashidhar Reddy      M   700000      2018-11-29  Engineering\n",
      "13  E109U     Sanket Gibbidi      M  5000000      2019-01-11     Products\n",
      "11  E092E       Mitali Gupta      F  1600000      2019-05-02    Semantics\n"
     ]
    }
   ],
   "source": [
    "if employee_df is not None:\n",
    "    print(greet_employee(\"E123D\", employee_df))\n",
    "    print(average_salary_by_department(employee_df))\n",
    "    print(display_employee_details(\"E123D\", employee_df))\n",
    "    sorted_employees = sort_employees_by_doj(employee_df)\n",
    "    print(sorted_employees)"
   ]
  },
  {
   "cell_type": "code",
   "execution_count": null,
   "id": "3592f45e",
   "metadata": {},
   "outputs": [],
   "source": []
  }
 ],
 "metadata": {
  "kernelspec": {
   "display_name": "Python 3 (ipykernel)",
   "language": "python",
   "name": "python3"
  },
  "language_info": {
   "codemirror_mode": {
    "name": "ipython",
    "version": 3
   },
   "file_extension": ".py",
   "mimetype": "text/x-python",
   "name": "python",
   "nbconvert_exporter": "python",
   "pygments_lexer": "ipython3",
   "version": "3.11.5"
  }
 },
 "nbformat": 4,
 "nbformat_minor": 5
}
